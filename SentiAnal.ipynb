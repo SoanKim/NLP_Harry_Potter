{
 "nbformat": 4,
 "nbformat_minor": 0,
 "metadata": {
  "colab": {
   "name": "SentiAnal.ipynb",
   "provenance": []
  },
  "kernelspec": {
   "name": "python3",
   "display_name": "Python 3"
  }
 },
 "cells": [
  {
   "cell_type": "markdown",
   "metadata": {
    "id": "wY04ItbtFvV_"
   },
   "source": [
    "# Text Preprocessing"
   ]
  },
  {
   "cell_type": "code",
   "metadata": {
    "id": "IBbyNBi8hPUu",
    "outputId": "97910317-b64c-4583-cfb5-8074f1886781",
    "colab": {
     "base_uri": "https://localhost:8080/",
     "height": 51
    }
   },
   "source": [
    "import nltk\n",
    "from nltk.corpus import stopwords\n",
    "nltk.download('stopwords')\n",
    "from gensim import parsing\n",
    "import gensim\n",
    "\n",
    "def text_preprocessing(path, file_dir):\n",
    "  with open(path + file_dir, 'r') as f:\n",
    "    text = f.read()\n",
    "    stops = set(stopwords.words(\"english\"))\n",
    "    # Convert text to lower\n",
    "    text = text.lower()\n",
    "    # Removing non ASCII chars    \n",
    "    text = re.sub(r'[^\\x00-\\x7f]',r' ',text)\n",
    "    # Removing all the stopwords\n",
    "    filtered_words = [word for word in text.split() if word not in stops]\n",
    "    # Stemming\n",
    "    return text"
   ],
   "execution_count": null,
   "outputs": [
    {
     "output_type": "stream",
     "text": [
      "[nltk_data] Downloading package stopwords to /root/nltk_data...\n",
      "[nltk_data]   Unzipping corpora/stopwords.zip.\n"
     ],
     "name": "stdout"
    }
   ]
  },
  {
   "cell_type": "code",
   "metadata": {
    "id": "4AtVCu94GTwU",
    "outputId": "95504905-0b2b-4ba9-ee13-4b0b279d1600",
    "colab": {
     "base_uri": "https://localhost:8080/",
     "height": 224
    }
   },
   "source": [
    "text = text_preprocessing(path, file_dir)\n",
    "print(text[0:1000])"
   ],
   "execution_count": null,
   "outputs": [
    {
     "output_type": "stream",
     "text": [
      " harry potter and the sorcerer's stone \n",
      "\n",
      "chapter one \n",
      "\n",
      "the boy who lived \n",
      "\n",
      "mr. and mrs. dursley, of number four, privet drive, were proud to say that they were perfectly normal, thank you very much. they were the last people you'd expect to be involved in anything strange or mysterious, because they just didn't hold with such nonsense. \n",
      "\n",
      "mr. dursley was the director of a firm called grunnings, which made drills. he was a big, beefy man with hardly any neck, although he did have a very large mustache. mrs. dursley was thin and blonde and had nearly twice the usual amount of neck, which came in very useful as she spent so much of her time craning over garden fences, spying on the neighbors. the dursleys had a small son called dudley and in their opinion there was no finer boy anywhere. \n",
      "\n",
      "the dursleys had everything they wanted, but they also had a secret, and their greatest fear was that somebody would discover it. they didn't think they could bear it if anyone found out about the potter\n"
     ],
     "name": "stdout"
    }
   ]
  },
  {
   "cell_type": "markdown",
   "metadata": {
    "id": "GcYphH3AdGUb"
   },
   "source": [
    "# Doc2vec\n"
   ]
  },
  {
   "cell_type": "code",
   "metadata": {
    "id": "2VV1NftdkW-r"
   },
   "source": [
    "chapters = []\n",
    "paragraphs = []\n",
    "sentences = []\n",
    "words = []\n",
    "\n",
    "chapter_cnt = 1\n",
    "paragraph_cnt = 1\n",
    "sentence_cnt = 0\n",
    "\n",
    "with open(file_dir, 'r') as f:\n",
    "  lines = f.readlines()\n",
    "  \n",
    "  for sentence in lines:\n",
    "    sentence = gensim.utils.simple_preprocess(sentence)\n",
    "    sentences.append(sentence_cnt)\n",
    "    chapters.append(chapter_cnt)\n",
    "    paragraphs.append(paragraph_cnt)\n",
    "    words.append(sentence)\n",
    "    \n",
    "    if len(sentence) == 0:\n",
    "      paragraph_cnt += 1\n",
    "    \n",
    "    elif len(sentence) == 2:\n",
    "      if sentence[0] == \"chapter\":\n",
    "        chapter_cnt += 1\n",
    "    \n",
    "    else:\n",
    "      sentence_cnt += 1"
   ],
   "execution_count": null,
   "outputs": []
  },
  {
   "cell_type": "code",
   "metadata": {
    "id": "q1dl0gptFj0E"
   },
   "source": [
    "cnt = 0\n",
    "with open(file_dir, 'r') as f:\n",
    "  lines = f.readlines()\n",
    "  for sentence_idx, sentence in enumerate(lines):\n",
    "    word_idxs.append(sentence_idx)\n",
    "    sentence = gensim.utils.simple_preprocess(sentence) # 6064\n",
    "    for word_idx, word in enumerate(sentence):\n",
    "      words.append(word)"
   ],
   "execution_count": null,
   "outputs": []
  },
  {
   "cell_type": "code",
   "metadata": {
    "id": "HeeoHcvLApsK",
    "outputId": "340633fb-7470-436a-cc51-7600966189dd",
    "colab": {
     "base_uri": "https://localhost:8080/",
     "height": 34
    }
   },
   "source": [
    "len(chapters)"
   ],
   "execution_count": null,
   "outputs": [
    {
     "output_type": "execute_result",
     "data": {
      "text/plain": [
       "6065"
      ]
     },
     "metadata": {
      "tags": []
     },
     "execution_count": 269
    }
   ]
  },
  {
   "cell_type": "code",
   "metadata": {
    "id": "7enj33fjCHGb",
    "outputId": "0f108133-3f57-430f-c283-644113e1695e",
    "colab": {
     "base_uri": "https://localhost:8080/",
     "height": 34
    }
   },
   "source": [
    "len(sentences)"
   ],
   "execution_count": null,
   "outputs": [
    {
     "output_type": "execute_result",
     "data": {
      "text/plain": [
       "6065"
      ]
     },
     "metadata": {
      "tags": []
     },
     "execution_count": 270
    }
   ]
  },
  {
   "cell_type": "code",
   "metadata": {
    "id": "DrK3HMa_1Y7H",
    "outputId": "b5c90c3b-f583-4461-b87e-e602086e0eba",
    "colab": {
     "base_uri": "https://localhost:8080/",
     "height": 34
    }
   },
   "source": [
    "len(paragraphs)"
   ],
   "execution_count": null,
   "outputs": [
    {
     "output_type": "execute_result",
     "data": {
      "text/plain": [
       "6065"
      ]
     },
     "metadata": {
      "tags": []
     },
     "execution_count": 271
    }
   ]
  },
  {
   "cell_type": "code",
   "metadata": {
    "id": "qJXeVTFQE8vQ"
   },
   "source": [
    "df = pd.DataFrame({'chapter':[], 'paragraph':[], 'sentence':[], 'tokens':[]})\n",
    "df.chapter = chapters\n",
    "df.paragraph = paragraphs\n",
    "df.sentence = sentences\n",
    "df.tokens = words"
   ],
   "execution_count": null,
   "outputs": []
  },
  {
   "cell_type": "code",
   "metadata": {
    "id": "JTH_4hduFHLx",
    "outputId": "c880e141-32ca-483f-820d-cd121208a3cd",
    "colab": {
     "base_uri": "https://localhost:8080/",
     "height": 419
    }
   },
   "source": [
    "df"
   ],
   "execution_count": null,
   "outputs": [
    {
     "output_type": "execute_result",
     "data": {
      "text/html": [
       "<div>\n",
       "<style scoped>\n",
       "    .dataframe tbody tr th:only-of-type {\n",
       "        vertical-align: middle;\n",
       "    }\n",
       "\n",
       "    .dataframe tbody tr th {\n",
       "        vertical-align: top;\n",
       "    }\n",
       "\n",
       "    .dataframe thead th {\n",
       "        text-align: right;\n",
       "    }\n",
       "</style>\n",
       "<table border=\"1\" class=\"dataframe\">\n",
       "  <thead>\n",
       "    <tr style=\"text-align: right;\">\n",
       "      <th></th>\n",
       "      <th>chapter</th>\n",
       "      <th>paragraph</th>\n",
       "      <th>sentence</th>\n",
       "      <th>tokens</th>\n",
       "    </tr>\n",
       "  </thead>\n",
       "  <tbody>\n",
       "    <tr>\n",
       "      <th>0</th>\n",
       "      <td>1</td>\n",
       "      <td>1</td>\n",
       "      <td>0</td>\n",
       "      <td>[harry, potter, and, the, sorcerer, stone]</td>\n",
       "    </tr>\n",
       "    <tr>\n",
       "      <th>1</th>\n",
       "      <td>1</td>\n",
       "      <td>1</td>\n",
       "      <td>1</td>\n",
       "      <td>[]</td>\n",
       "    </tr>\n",
       "    <tr>\n",
       "      <th>2</th>\n",
       "      <td>1</td>\n",
       "      <td>2</td>\n",
       "      <td>1</td>\n",
       "      <td>[chapter, one]</td>\n",
       "    </tr>\n",
       "    <tr>\n",
       "      <th>3</th>\n",
       "      <td>2</td>\n",
       "      <td>2</td>\n",
       "      <td>1</td>\n",
       "      <td>[]</td>\n",
       "    </tr>\n",
       "    <tr>\n",
       "      <th>4</th>\n",
       "      <td>2</td>\n",
       "      <td>3</td>\n",
       "      <td>1</td>\n",
       "      <td>[the, boy, who, lived]</td>\n",
       "    </tr>\n",
       "    <tr>\n",
       "      <th>...</th>\n",
       "      <td>...</td>\n",
       "      <td>...</td>\n",
       "      <td>...</td>\n",
       "      <td>...</td>\n",
       "    </tr>\n",
       "    <tr>\n",
       "      <th>6060</th>\n",
       "      <td>17</td>\n",
       "      <td>3031</td>\n",
       "      <td>2958</td>\n",
       "      <td>[hope, you, have, er, good, holiday, said, her...</td>\n",
       "    </tr>\n",
       "    <tr>\n",
       "      <th>6061</th>\n",
       "      <td>17</td>\n",
       "      <td>3031</td>\n",
       "      <td>2959</td>\n",
       "      <td>[]</td>\n",
       "    </tr>\n",
       "    <tr>\n",
       "      <th>6062</th>\n",
       "      <td>17</td>\n",
       "      <td>3032</td>\n",
       "      <td>2959</td>\n",
       "      <td>[oh, will, said, harry, and, they, were, surpr...</td>\n",
       "    </tr>\n",
       "    <tr>\n",
       "      <th>6063</th>\n",
       "      <td>17</td>\n",
       "      <td>3032</td>\n",
       "      <td>2960</td>\n",
       "      <td>[]</td>\n",
       "    </tr>\n",
       "    <tr>\n",
       "      <th>6064</th>\n",
       "      <td>17</td>\n",
       "      <td>3033</td>\n",
       "      <td>2960</td>\n",
       "      <td>[the, end]</td>\n",
       "    </tr>\n",
       "  </tbody>\n",
       "</table>\n",
       "<p>6065 rows × 4 columns</p>\n",
       "</div>"
      ],
      "text/plain": [
       "      chapter  ...                                             tokens\n",
       "0           1  ...         [harry, potter, and, the, sorcerer, stone]\n",
       "1           1  ...                                                 []\n",
       "2           1  ...                                     [chapter, one]\n",
       "3           2  ...                                                 []\n",
       "4           2  ...                             [the, boy, who, lived]\n",
       "...       ...  ...                                                ...\n",
       "6060       17  ...  [hope, you, have, er, good, holiday, said, her...\n",
       "6061       17  ...                                                 []\n",
       "6062       17  ...  [oh, will, said, harry, and, they, were, surpr...\n",
       "6063       17  ...                                                 []\n",
       "6064       17  ...                                         [the, end]\n",
       "\n",
       "[6065 rows x 4 columns]"
      ]
     },
     "metadata": {
      "tags": []
     },
     "execution_count": 302
    }
   ]
  },
  {
   "cell_type": "code",
   "metadata": {
    "id": "VtggH14FatU5"
   },
   "source": [
    "import requests\n",
    "import json\n",
    "from google.cloud import language\n",
    "from google.oauth2 import service_account\n",
    "from google.cloud.language import enums\n",
    "from google.cloud.language import types\n",
    "# Build language API client (requires service account key)\n",
    "client = language.LanguageServiceClient.from_service_account_json(path+'#####################.json')"
   ],
   "execution_count": null,
   "outputs": []
  },
  {
   "cell_type": "code",
   "metadata": {
    "id": "zzw7jZ9tZZkV"
   },
   "source": [
    "def analyze_sentiment(content):\n",
    "    type_ = enums.Document.Type.PLAIN_TEXT\n",
    "    document = {'type': type_, 'content': content}\n",
    "    response = client.analyze_sentiment(document)\n",
    "    sentiment = response.document_sentiment\n",
    "    return sentiment.score, sentiment.magnitude"
   ],
   "execution_count": null,
   "outputs": []
  },
  {
   "cell_type": "code",
   "metadata": {
    "id": "DcUXVNxRdaHq",
    "outputId": "19f1320d-24dd-4fac-bf5a-5c753a4056a4",
    "colab": {
     "base_uri": "https://localhost:8080/",
     "height": 34
    }
   },
   "source": [
    "text = 'I love python.'\n",
    "get_sentiment_score(text)"
   ],
   "execution_count": null,
   "outputs": [
    {
     "output_type": "execute_result",
     "data": {
      "text/plain": [
       "0.8999999761581421"
      ]
     },
     "metadata": {
      "tags": []
     },
     "execution_count": 374
    }
   ]
  },
  {
   "cell_type": "code",
   "metadata": {
    "id": "IJ_PPDwRaZzG"
   },
   "source": [
    "sen_li = []\n",
    "mag_li = []\n",
    "cnt = 0\n",
    "with open(file_dir, 'r') as f:\n",
    "  texts = f.readlines()\n",
    "  for idx in range(0, 1000):\n",
    "    text = texts[idx]\n",
    "    tokens = gensim.utils.simple_preprocess(text)\n",
    "    if len(tokens)<5: # 2715 sentenced with more than 5 tokens\n",
    "      sentiment = str(0)\n",
    "      magnitude = str(0)\n",
    "    else:\n",
    "      sentiment, magnitude = analyze_sentiment(text)\n",
    "    sen_li.append(sentiment)\n",
    "    mag_li.append(magnitude)"
   ],
   "execution_count": null,
   "outputs": []
  },
  {
   "cell_type": "code",
   "metadata": {
    "id": "BtFszWy1w9Qx"
   },
   "source": [
    "sen1000 = sen_li\n",
    "mag1000 = mag_li"
   ],
   "execution_count": null,
   "outputs": []
  },
  {
   "cell_type": "code",
   "metadata": {
    "id": "vhNRsMDJw9c7"
   },
   "source": [
    "sen_li"
   ],
   "execution_count": null,
   "outputs": []
  },
  {
   "cell_type": "code",
   "metadata": {
    "id": "QfSt3qNExzrN"
   },
   "source": [
    "#sen_2000 = sentiment_li+sentiment_li_1000_2000\n",
    "#mag_2000 = maginitude_li +maginitude_li_1000_2000"
   ],
   "execution_count": null,
   "outputs": []
  },
  {
   "cell_type": "code",
   "metadata": {
    "id": "MUXsrOokzBS9"
   },
   "source": [
    "sen_3000 = sen_2000+sentiment_li\n",
    "mag_3000 = mag_2000+magnitude_li"
   ],
   "execution_count": null,
   "outputs": []
  },
  {
   "cell_type": "code",
   "metadata": {
    "id": "mkKhBbfLzVqj",
    "outputId": "cfc4a7e0-7481-4913-cebe-4a1a4494fa93",
    "colab": {
     "base_uri": "https://localhost:8080/",
     "height": 34
    }
   },
   "source": [
    "len(sen_4000)"
   ],
   "execution_count": null,
   "outputs": [
    {
     "output_type": "execute_result",
     "data": {
      "text/plain": [
       "4000"
      ]
     },
     "metadata": {
      "tags": []
     },
     "execution_count": 462
    }
   ]
  },
  {
   "cell_type": "code",
   "metadata": {
    "id": "UYOZSwmkzW-B",
    "outputId": "04ab1dbc-b637-44eb-d198-3a08f079cd54",
    "colab": {
     "base_uri": "https://localhost:8080/",
     "height": 34
    }
   },
   "source": [
    "len(mag_4000)"
   ],
   "execution_count": null,
   "outputs": [
    {
     "output_type": "execute_result",
     "data": {
      "text/plain": [
       "4000"
      ]
     },
     "metadata": {
      "tags": []
     },
     "execution_count": 463
    }
   ]
  },
  {
   "cell_type": "code",
   "metadata": {
    "id": "It_Ev1ofzYOY"
   },
   "source": [
    "sen_4000 = sen_3000+sentiment_li\n",
    "mag_4000 = mag_3000+magnitude_li"
   ],
   "execution_count": null,
   "outputs": []
  },
  {
   "cell_type": "code",
   "metadata": {
    "id": "uNfwFEd6zpzh"
   },
   "source": [
    "sen_5000 = sen_4000+sentiment_li\n",
    "mag_5000 = mag_4000+magnitude_li"
   ],
   "execution_count": null,
   "outputs": []
  },
  {
   "cell_type": "code",
   "metadata": {
    "id": "_fsL_KNQz_08"
   },
   "source": [
    "sen_6000 = sen_5000+sentiment_li\n",
    "mag_6000 = mag_5000+magnitude_li"
   ],
   "execution_count": null,
   "outputs": []
  },
  {
   "cell_type": "code",
   "metadata": {
    "id": "kf6xZPCPzv0Z",
    "outputId": "9e15f7df-cf08-43b9-9315-2df4ddbbb4da",
    "colab": {
     "base_uri": "https://localhost:8080/",
     "height": 34
    }
   },
   "source": [
    "len(sen_6000)"
   ],
   "execution_count": null,
   "outputs": [
    {
     "output_type": "execute_result",
     "data": {
      "text/plain": [
       "6065"
      ]
     },
     "metadata": {
      "tags": []
     },
     "execution_count": 470
    }
   ]
  },
  {
   "cell_type": "code",
   "metadata": {
    "id": "ew6so9zXzzwl",
    "outputId": "d4c3e881-45d6-4f7e-d669-a9d945993aa7",
    "colab": {
     "base_uri": "https://localhost:8080/",
     "height": 34
    }
   },
   "source": [
    "len(mag_6000)"
   ],
   "execution_count": null,
   "outputs": [
    {
     "output_type": "execute_result",
     "data": {
      "text/plain": [
       "6065"
      ]
     },
     "metadata": {
      "tags": []
     },
     "execution_count": 471
    }
   ]
  },
  {
   "cell_type": "code",
   "metadata": {
    "id": "W9qYKFV10JEm"
   },
   "source": [
    "df1 = pd.DataFrame({\"sentiment\":[], \"magnitude\":[]})\n",
    "df1.sentiment = sen_6000\n",
    "df1.magnitude = mag_6000"
   ],
   "execution_count": null,
   "outputs": []
  },
  {
   "cell_type": "code",
   "metadata": {
    "id": "kSa5AJGp1SX2",
    "outputId": "1f1bfc9c-c730-42c9-8413-2974496895b3",
    "colab": {
     "base_uri": "https://localhost:8080/",
     "height": 419
    }
   },
   "source": [
    "df2 = pd.concat([df, df1], axis=1)\n",
    "df2"
   ],
   "execution_count": null,
   "outputs": [
    {
     "output_type": "execute_result",
     "data": {
      "text/html": [
       "<div>\n",
       "<style scoped>\n",
       "    .dataframe tbody tr th:only-of-type {\n",
       "        vertical-align: middle;\n",
       "    }\n",
       "\n",
       "    .dataframe tbody tr th {\n",
       "        vertical-align: top;\n",
       "    }\n",
       "\n",
       "    .dataframe thead th {\n",
       "        text-align: right;\n",
       "    }\n",
       "</style>\n",
       "<table border=\"1\" class=\"dataframe\">\n",
       "  <thead>\n",
       "    <tr style=\"text-align: right;\">\n",
       "      <th></th>\n",
       "      <th>chapter</th>\n",
       "      <th>paragraph</th>\n",
       "      <th>sentence</th>\n",
       "      <th>tokens</th>\n",
       "      <th>sentiment</th>\n",
       "      <th>magnitude</th>\n",
       "    </tr>\n",
       "  </thead>\n",
       "  <tbody>\n",
       "    <tr>\n",
       "      <th>0</th>\n",
       "      <td>1</td>\n",
       "      <td>1</td>\n",
       "      <td>0</td>\n",
       "      <td>[harry, potter, and, the, sorcerer, stone]</td>\n",
       "      <td>0.4</td>\n",
       "      <td>0.4</td>\n",
       "    </tr>\n",
       "    <tr>\n",
       "      <th>1</th>\n",
       "      <td>1</td>\n",
       "      <td>1</td>\n",
       "      <td>1</td>\n",
       "      <td>[]</td>\n",
       "      <td>0</td>\n",
       "      <td>0</td>\n",
       "    </tr>\n",
       "    <tr>\n",
       "      <th>2</th>\n",
       "      <td>1</td>\n",
       "      <td>2</td>\n",
       "      <td>1</td>\n",
       "      <td>[chapter, one]</td>\n",
       "      <td>0</td>\n",
       "      <td>0</td>\n",
       "    </tr>\n",
       "    <tr>\n",
       "      <th>3</th>\n",
       "      <td>2</td>\n",
       "      <td>2</td>\n",
       "      <td>1</td>\n",
       "      <td>[]</td>\n",
       "      <td>0</td>\n",
       "      <td>0</td>\n",
       "    </tr>\n",
       "    <tr>\n",
       "      <th>4</th>\n",
       "      <td>2</td>\n",
       "      <td>3</td>\n",
       "      <td>1</td>\n",
       "      <td>[the, boy, who, lived]</td>\n",
       "      <td>0</td>\n",
       "      <td>0</td>\n",
       "    </tr>\n",
       "    <tr>\n",
       "      <th>...</th>\n",
       "      <td>...</td>\n",
       "      <td>...</td>\n",
       "      <td>...</td>\n",
       "      <td>...</td>\n",
       "      <td>...</td>\n",
       "      <td>...</td>\n",
       "    </tr>\n",
       "    <tr>\n",
       "      <th>6060</th>\n",
       "      <td>17</td>\n",
       "      <td>3031</td>\n",
       "      <td>2958</td>\n",
       "      <td>[hope, you, have, er, good, holiday, said, her...</td>\n",
       "      <td>-0.6</td>\n",
       "      <td>0.6</td>\n",
       "    </tr>\n",
       "    <tr>\n",
       "      <th>6061</th>\n",
       "      <td>17</td>\n",
       "      <td>3031</td>\n",
       "      <td>2959</td>\n",
       "      <td>[]</td>\n",
       "      <td>0</td>\n",
       "      <td>0</td>\n",
       "    </tr>\n",
       "    <tr>\n",
       "      <th>6062</th>\n",
       "      <td>17</td>\n",
       "      <td>3032</td>\n",
       "      <td>2959</td>\n",
       "      <td>[oh, will, said, harry, and, they, were, surpr...</td>\n",
       "      <td>0.1</td>\n",
       "      <td>1.9</td>\n",
       "    </tr>\n",
       "    <tr>\n",
       "      <th>6063</th>\n",
       "      <td>17</td>\n",
       "      <td>3032</td>\n",
       "      <td>2960</td>\n",
       "      <td>[]</td>\n",
       "      <td>0</td>\n",
       "      <td>0</td>\n",
       "    </tr>\n",
       "    <tr>\n",
       "      <th>6064</th>\n",
       "      <td>17</td>\n",
       "      <td>3033</td>\n",
       "      <td>2960</td>\n",
       "      <td>[the, end]</td>\n",
       "      <td>0</td>\n",
       "      <td>0</td>\n",
       "    </tr>\n",
       "  </tbody>\n",
       "</table>\n",
       "<p>6065 rows × 6 columns</p>\n",
       "</div>"
      ],
      "text/plain": [
       "      chapter  paragraph  ...  sentiment magnitude\n",
       "0           1          1  ...        0.4       0.4\n",
       "1           1          1  ...          0         0\n",
       "2           1          2  ...          0         0\n",
       "3           2          2  ...          0         0\n",
       "4           2          3  ...          0         0\n",
       "...       ...        ...  ...        ...       ...\n",
       "6060       17       3031  ...       -0.6       0.6\n",
       "6061       17       3031  ...          0         0\n",
       "6062       17       3032  ...        0.1       1.9\n",
       "6063       17       3032  ...          0         0\n",
       "6064       17       3033  ...          0         0\n",
       "\n",
       "[6065 rows x 6 columns]"
      ]
     },
     "metadata": {
      "tags": []
     },
     "execution_count": 503
    }
   ]
  },
  {
   "cell_type": "code",
   "metadata": {
    "id": "JhyGW3ij0tma",
    "outputId": "108c2ca9-5f78-4191-b4b3-7b3a5aad3cc8",
    "colab": {
     "base_uri": "https://localhost:8080/",
     "height": 34
    }
   },
   "source": [
    "type(sen_6000)"
   ],
   "execution_count": null,
   "outputs": [
    {
     "output_type": "execute_result",
     "data": {
      "text/plain": [
       "list"
      ]
     },
     "metadata": {
      "tags": []
     },
     "execution_count": 476
    }
   ]
  },
  {
   "cell_type": "code",
   "metadata": {
    "id": "_YvhsFwT0cUI"
   },
   "source": [
    "df2.to_excel(path+\"sentiment_analysis.xlsx\") "
   ],
   "execution_count": null,
   "outputs": []
  },
  {
   "cell_type": "code",
   "metadata": {
    "id": "Q7-E3XOa2jiM",
    "outputId": "413d5eab-15df-43df-d0a2-bfb69564e214",
    "colab": {
     "base_uri": "https://localhost:8080/",
     "height": 419
    }
   },
   "source": [
    "df2"
   ],
   "execution_count": null,
   "outputs": [
    {
     "output_type": "execute_result",
     "data": {
      "text/html": [
       "<div>\n",
       "<style scoped>\n",
       "    .dataframe tbody tr th:only-of-type {\n",
       "        vertical-align: middle;\n",
       "    }\n",
       "\n",
       "    .dataframe tbody tr th {\n",
       "        vertical-align: top;\n",
       "    }\n",
       "\n",
       "    .dataframe thead th {\n",
       "        text-align: right;\n",
       "    }\n",
       "</style>\n",
       "<table border=\"1\" class=\"dataframe\">\n",
       "  <thead>\n",
       "    <tr style=\"text-align: right;\">\n",
       "      <th></th>\n",
       "      <th>chapter</th>\n",
       "      <th>paragraph</th>\n",
       "      <th>sentence</th>\n",
       "      <th>tokens</th>\n",
       "      <th>sentiment</th>\n",
       "      <th>magnitude</th>\n",
       "    </tr>\n",
       "  </thead>\n",
       "  <tbody>\n",
       "    <tr>\n",
       "      <th>0</th>\n",
       "      <td>1</td>\n",
       "      <td>1</td>\n",
       "      <td>0</td>\n",
       "      <td>[harry, potter, and, the, sorcerer, stone]</td>\n",
       "      <td>0.4</td>\n",
       "      <td>0.4</td>\n",
       "    </tr>\n",
       "    <tr>\n",
       "      <th>1</th>\n",
       "      <td>1</td>\n",
       "      <td>1</td>\n",
       "      <td>1</td>\n",
       "      <td>[]</td>\n",
       "      <td>0</td>\n",
       "      <td>0</td>\n",
       "    </tr>\n",
       "    <tr>\n",
       "      <th>2</th>\n",
       "      <td>1</td>\n",
       "      <td>2</td>\n",
       "      <td>1</td>\n",
       "      <td>[chapter, one]</td>\n",
       "      <td>0</td>\n",
       "      <td>0</td>\n",
       "    </tr>\n",
       "    <tr>\n",
       "      <th>3</th>\n",
       "      <td>2</td>\n",
       "      <td>2</td>\n",
       "      <td>1</td>\n",
       "      <td>[]</td>\n",
       "      <td>0</td>\n",
       "      <td>0</td>\n",
       "    </tr>\n",
       "    <tr>\n",
       "      <th>4</th>\n",
       "      <td>2</td>\n",
       "      <td>3</td>\n",
       "      <td>1</td>\n",
       "      <td>[the, boy, who, lived]</td>\n",
       "      <td>0</td>\n",
       "      <td>0</td>\n",
       "    </tr>\n",
       "    <tr>\n",
       "      <th>...</th>\n",
       "      <td>...</td>\n",
       "      <td>...</td>\n",
       "      <td>...</td>\n",
       "      <td>...</td>\n",
       "      <td>...</td>\n",
       "      <td>...</td>\n",
       "    </tr>\n",
       "    <tr>\n",
       "      <th>6060</th>\n",
       "      <td>17</td>\n",
       "      <td>3031</td>\n",
       "      <td>2958</td>\n",
       "      <td>[hope, you, have, er, good, holiday, said, her...</td>\n",
       "      <td>-0.6</td>\n",
       "      <td>0.6</td>\n",
       "    </tr>\n",
       "    <tr>\n",
       "      <th>6061</th>\n",
       "      <td>17</td>\n",
       "      <td>3031</td>\n",
       "      <td>2959</td>\n",
       "      <td>[]</td>\n",
       "      <td>0</td>\n",
       "      <td>0</td>\n",
       "    </tr>\n",
       "    <tr>\n",
       "      <th>6062</th>\n",
       "      <td>17</td>\n",
       "      <td>3032</td>\n",
       "      <td>2959</td>\n",
       "      <td>[oh, will, said, harry, and, they, were, surpr...</td>\n",
       "      <td>0.1</td>\n",
       "      <td>1.9</td>\n",
       "    </tr>\n",
       "    <tr>\n",
       "      <th>6063</th>\n",
       "      <td>17</td>\n",
       "      <td>3032</td>\n",
       "      <td>2960</td>\n",
       "      <td>[]</td>\n",
       "      <td>0</td>\n",
       "      <td>0</td>\n",
       "    </tr>\n",
       "    <tr>\n",
       "      <th>6064</th>\n",
       "      <td>17</td>\n",
       "      <td>3033</td>\n",
       "      <td>2960</td>\n",
       "      <td>[the, end]</td>\n",
       "      <td>0</td>\n",
       "      <td>0</td>\n",
       "    </tr>\n",
       "  </tbody>\n",
       "</table>\n",
       "<p>6065 rows × 6 columns</p>\n",
       "</div>"
      ],
      "text/plain": [
       "      chapter  paragraph  ...  sentiment magnitude\n",
       "0           1          1  ...        0.4       0.4\n",
       "1           1          1  ...          0         0\n",
       "2           1          2  ...          0         0\n",
       "3           2          2  ...          0         0\n",
       "4           2          3  ...          0         0\n",
       "...       ...        ...  ...        ...       ...\n",
       "6060       17       3031  ...       -0.6       0.6\n",
       "6061       17       3031  ...          0         0\n",
       "6062       17       3032  ...        0.1       1.9\n",
       "6063       17       3032  ...          0         0\n",
       "6064       17       3033  ...          0         0\n",
       "\n",
       "[6065 rows x 6 columns]"
      ]
     },
     "metadata": {
      "tags": []
     },
     "execution_count": 505
    }
   ]
  },
  {
   "cell_type": "code",
   "metadata": {
    "id": "9Vy__JFA5CBp"
   },
   "source": [
    "df2['token_cnt']=df2['tokens'].str.len()\n",
    "df2['chapter'] = df2['chapter']-1"
   ],
   "execution_count": null,
   "outputs": []
  },
  {
   "cell_type": "code",
   "metadata": {
    "id": "7aXU3bWC24eX",
    "outputId": "a01ecadf-db7b-4703-c870-47e392b5f359",
    "colab": {
     "base_uri": "https://localhost:8080/",
     "height": 419
    }
   },
   "source": [
    "df3 = df2[df2.sentiment != '0']\n",
    "#df3 = df3.drop_duplicates['paragraph']\n",
    "df3"
   ],
   "execution_count": null,
   "outputs": [
    {
     "output_type": "execute_result",
     "data": {
      "text/html": [
       "<div>\n",
       "<style scoped>\n",
       "    .dataframe tbody tr th:only-of-type {\n",
       "        vertical-align: middle;\n",
       "    }\n",
       "\n",
       "    .dataframe tbody tr th {\n",
       "        vertical-align: top;\n",
       "    }\n",
       "\n",
       "    .dataframe thead th {\n",
       "        text-align: right;\n",
       "    }\n",
       "</style>\n",
       "<table border=\"1\" class=\"dataframe\">\n",
       "  <thead>\n",
       "    <tr style=\"text-align: right;\">\n",
       "      <th></th>\n",
       "      <th>chapter</th>\n",
       "      <th>paragraph</th>\n",
       "      <th>sentence</th>\n",
       "      <th>tokens</th>\n",
       "      <th>sentiment</th>\n",
       "      <th>magnitude</th>\n",
       "    </tr>\n",
       "  </thead>\n",
       "  <tbody>\n",
       "    <tr>\n",
       "      <th>0</th>\n",
       "      <td>1</td>\n",
       "      <td>1</td>\n",
       "      <td>0</td>\n",
       "      <td>[harry, potter, and, the, sorcerer, stone]</td>\n",
       "      <td>0.4</td>\n",
       "      <td>0.4</td>\n",
       "    </tr>\n",
       "    <tr>\n",
       "      <th>6</th>\n",
       "      <td>2</td>\n",
       "      <td>4</td>\n",
       "      <td>2</td>\n",
       "      <td>[mr, and, mrs, dursley, of, number, four, priv...</td>\n",
       "      <td>0</td>\n",
       "      <td>1.7</td>\n",
       "    </tr>\n",
       "    <tr>\n",
       "      <th>8</th>\n",
       "      <td>2</td>\n",
       "      <td>5</td>\n",
       "      <td>3</td>\n",
       "      <td>[mr, dursley, was, the, director, of, firm, ca...</td>\n",
       "      <td>0</td>\n",
       "      <td>0.6</td>\n",
       "    </tr>\n",
       "    <tr>\n",
       "      <th>10</th>\n",
       "      <td>2</td>\n",
       "      <td>6</td>\n",
       "      <td>4</td>\n",
       "      <td>[the, dursleys, had, everything, they, wanted,...</td>\n",
       "      <td>0</td>\n",
       "      <td>2.6</td>\n",
       "    </tr>\n",
       "    <tr>\n",
       "      <th>12</th>\n",
       "      <td>2</td>\n",
       "      <td>7</td>\n",
       "      <td>5</td>\n",
       "      <td>[when, mr, and, mrs, dursley, woke, up, on, th...</td>\n",
       "      <td>0.1</td>\n",
       "      <td>1.1</td>\n",
       "    </tr>\n",
       "    <tr>\n",
       "      <th>...</th>\n",
       "      <td>...</td>\n",
       "      <td>...</td>\n",
       "      <td>...</td>\n",
       "      <td>...</td>\n",
       "      <td>...</td>\n",
       "      <td>...</td>\n",
       "    </tr>\n",
       "    <tr>\n",
       "      <th>6054</th>\n",
       "      <td>17</td>\n",
       "      <td>3028</td>\n",
       "      <td>2955</td>\n",
       "      <td>[in, manner, of, speaking, said, uncle, vernon...</td>\n",
       "      <td>-0.3</td>\n",
       "      <td>1</td>\n",
       "    </tr>\n",
       "    <tr>\n",
       "      <th>6056</th>\n",
       "      <td>17</td>\n",
       "      <td>3029</td>\n",
       "      <td>2956</td>\n",
       "      <td>[harry, hung, back, for, last, word, with, ron...</td>\n",
       "      <td>-0.1</td>\n",
       "      <td>0.1</td>\n",
       "    </tr>\n",
       "    <tr>\n",
       "      <th>6058</th>\n",
       "      <td>17</td>\n",
       "      <td>3030</td>\n",
       "      <td>2957</td>\n",
       "      <td>[see, you, over, the, summer, then]</td>\n",
       "      <td>0.3</td>\n",
       "      <td>0.3</td>\n",
       "    </tr>\n",
       "    <tr>\n",
       "      <th>6060</th>\n",
       "      <td>17</td>\n",
       "      <td>3031</td>\n",
       "      <td>2958</td>\n",
       "      <td>[hope, you, have, er, good, holiday, said, her...</td>\n",
       "      <td>-0.6</td>\n",
       "      <td>0.6</td>\n",
       "    </tr>\n",
       "    <tr>\n",
       "      <th>6062</th>\n",
       "      <td>17</td>\n",
       "      <td>3032</td>\n",
       "      <td>2959</td>\n",
       "      <td>[oh, will, said, harry, and, they, were, surpr...</td>\n",
       "      <td>0.1</td>\n",
       "      <td>1.9</td>\n",
       "    </tr>\n",
       "  </tbody>\n",
       "</table>\n",
       "<p>2715 rows × 6 columns</p>\n",
       "</div>"
      ],
      "text/plain": [
       "      chapter  paragraph  ...  sentiment magnitude\n",
       "0           1          1  ...        0.4       0.4\n",
       "6           2          4  ...          0       1.7\n",
       "8           2          5  ...          0       0.6\n",
       "10          2          6  ...          0       2.6\n",
       "12          2          7  ...        0.1       1.1\n",
       "...       ...        ...  ...        ...       ...\n",
       "6054       17       3028  ...       -0.3         1\n",
       "6056       17       3029  ...       -0.1       0.1\n",
       "6058       17       3030  ...        0.3       0.3\n",
       "6060       17       3031  ...       -0.6       0.6\n",
       "6062       17       3032  ...        0.1       1.9\n",
       "\n",
       "[2715 rows x 6 columns]"
      ]
     },
     "metadata": {
      "tags": []
     },
     "execution_count": 506
    }
   ]
  },
  {
   "cell_type": "code",
   "metadata": {
    "id": "vMZhMJEq4PzD"
   },
   "source": [
    "#df3.to_excel(path+\"sentiment_analysis_trimmed.xlsx\") \n",
    "df3 = pd.read_excel(path+\"sentiment_analysis_trimmed.xlsx\")"
   ],
   "execution_count": null,
   "outputs": []
  },
  {
   "cell_type": "code",
   "metadata": {
    "id": "MhHchzGxAatW"
   },
   "source": [
    "def smoothListGaussian(list, degree=100):\n",
    "    window = degree*2-1\n",
    "    weight = numpy.array([1.0]*window)\n",
    "    weightGauss = []\n",
    "    for i in range(window):\n",
    "        i = i-degree+1\n",
    "        frac = i/float(window)\n",
    "        gauss = 1/(numpy.exp((4*(frac))**2))\n",
    "        weightGauss.append(gauss)\n",
    "    weight = numpy.array(weightGauss)*weight\n",
    "    smoothed = [0.0]*(len(list)-window)\n",
    "    for i in range(len(smoothed)):\n",
    "        smoothed[i] = sum(numpy.array(list[i:i+window])*weight)/sum(weight)\n",
    "    return smoothed "
   ],
   "execution_count": null,
   "outputs": []
  },
  {
   "cell_type": "code",
   "metadata": {
    "id": "FSmXFRS37Hh4",
    "outputId": "856885ba-e760-457c-cbff-c96b71ea28f9",
    "colab": {
     "base_uri": "https://localhost:8080/",
     "height": 561
    }
   },
   "source": [
    "import matplotlib.pyplot as plt\n",
    "import numpy\n",
    "plt.figure(figsize=(20,10))\n",
    "plt.style.use('fivethirtyeight')\n",
    "plt.title(\"Sentiment Analysis by Chapter\", fontsize=30)\n",
    "plt.ylabel('Sentiment Analysis', fontsize=30)\n",
    "plt.xlabel('Chapter', fontsize=30)\n",
    "plt.scatter(df3.chapter, df3.sentiment)\n",
    "plt.xticks(fontsize=20)\n",
    "plt.yticks(fontsize=20)\n",
    "y = smoothListGaussian(df3.sentiment)\n",
    "x = smoothListGaussian(df3.chapter)\n",
    "\n",
    "plt.plot(df3.chapter, df3.magnitude, label='magnitude')\n",
    "plt.plot(x, y, label='sentiment')\n",
    "plt.legend(loc='best', fontsize=20)\n",
    "plt.savefig(path+'Sentiment Analysis by Chapter.png')"
   ],
   "execution_count": null,
   "outputs": [
    {
     "output_type": "display_data",
     "data": {
      "image/png": "[encoded data removed]",
      "text/plain": [
       "<Figure size 1440x720 with 1 Axes>"
      ]
     },
     "metadata": {
      "tags": []
     }
    }
   ]
  },
  {
   "cell_type": "markdown",
   "metadata": {
    "id": "Xmz_XxH4DiBh"
   },
   "source": [
    "# Sentiment score by sentence"
   ]
  },
  {
   "cell_type": "code",
   "metadata": {
    "id": "_6W_Gfea7ex4",
    "outputId": "7edad563-453c-4c80-8ce8-91e9c86a7c89",
    "colab": {
     "base_uri": "https://localhost:8080/",
     "height": 557
    }
   },
   "source": [
    "plt.figure(figsize=(20,10))\n",
    "x = smoothListGaussian(df3.magnitude)\n",
    "y = smoothListGaussian(df3.sentiment)\n",
    "\n",
    "plt.title(\"Sentiment & Magnitude Analysis by Sentence\", fontsize=30)\n",
    "plt.ylabel('Sentiment Analysis', fontsize=20)\n",
    "plt.xlabel('Sentences', fontsize=30)\n",
    "plt.xticks(fontsize=20)\n",
    "plt.yticks(fontsize=20)\n",
    "plt.plot(x, label='magnitude')\n",
    "plt.plot(y, label='sentiment')\n",
    "plt.legend(loc='best', fontsize=20)\n",
    "plt.savefig(path+'Sentiment & Magnitude Analysis by Sentence.png')"
   ],
   "execution_count": null,
   "outputs": [
    {
     "output_type": "display_data",
     "data": {
      "image/png": "[encoded data removed]",
      "text/plain": [
       "<Figure size 1440x720 with 1 Axes>"
      ]
     },
     "metadata": {
      "tags": []
     }
    }
   ]
  },
  {
   "cell_type": "code",
   "metadata": {
    "id": "aTzLGfytlK_F",
    "outputId": "3a722725-a2de-4420-a1a6-4d64031b0843",
    "colab": {
     "base_uri": "https://localhost:8080/",
     "height": 221
    }
   },
   "source": [
    "df3['magnitude']"
   ],
   "execution_count": null,
   "outputs": [
    {
     "output_type": "execute_result",
     "data": {
      "text/plain": [
       "0       0.4\n",
       "1       1.7\n",
       "2       0.6\n",
       "3       2.6\n",
       "4       1.1\n",
       "       ... \n",
       "2710    1.0\n",
       "2711    0.1\n",
       "2712    0.3\n",
       "2713    0.6\n",
       "2714    1.9\n",
       "Name: magnitude, Length: 2715, dtype: float64"
      ]
     },
     "metadata": {
      "tags": []
     },
     "execution_count": 211
    }
   ]
  },
  {
   "cell_type": "code",
   "metadata": {
    "id": "93jFqQYS_ne-"
   },
   "source": [
    "# from scipy.fft import fft, ifft\n",
    "# from scipy import signal\n",
    "# import numpy as np\n",
    "\n",
    "# plt.figure(figsize=(20,10))\n",
    "# mag = fft(df3['magnitude'])\n",
    "# mag = smoothListGaussian(mag)\n",
    "# sen = fft(df3.sentiment)\n",
    "# sen = smoothListGaussian(sen)\n",
    "# plt.title(\"Sentiment and Magnitude Scores (Fourier)\", fontsize=30)\n",
    "# plt.ylabel('Sentiment & Maginitue Scores', fontsize=20)\n",
    "# plt.xlabel('Sentence', fontsize=30)\n",
    "# plt.xticks(fontsize=20)\n",
    "# plt.yticks(fontsize=20)\n",
    "# plt.plot(mag, label='Magnitude')\n",
    "# plt.plot(sen, label='Sentiment Score')\n",
    "# plt.legend(loc=\"best\", fontsize=20)\n",
    "# plt.savefig(path+'Sentiment and Magnitude Scores (Fourier).png')"
   ],
   "execution_count": null,
   "outputs": []
  },
  {
   "cell_type": "markdown",
   "metadata": {
    "id": "DZCMmg9LWpEg"
   },
   "source": [
    "#  Load df for Entitity Analysis"
   ]
  },
  {
   "cell_type": "code",
   "metadata": {
    "id": "xqtXIxNdWofn"
   },
   "source": [
    "dataframe = pd.read_excel(path+\"sentiment_analysis_trimmed.xlsx\")"
   ],
   "execution_count": null,
   "outputs": []
  },
  {
   "cell_type": "code",
   "metadata": {
    "id": "vMrAivm3L_RL"
   },
   "source": [
    "import json\n",
    "from google.cloud import language_v1\n",
    "from google.cloud.language_v1 import enums\n",
    "import requests\n",
    "import json\n",
    "from google.cloud import language\n",
    "from google.oauth2 import service_account\n",
    "from google.cloud.language import enums\n",
    "from google.cloud.language import types\n",
    "# Build language API client (requires service account key)\n",
    "client = language.LanguageServiceClient.from_service_account_json(path+'##################.json')\n",
    "\n",
    "entity_name = []\n",
    "entity_type = []\n",
    "salience = []\n",
    "sentiment_score = []\n",
    "sentiment_magnitude = []\n",
    "\n",
    "def sample_analyze_entity_sentiment(text_content):\n",
    "\n",
    "    # harry_senti_score = 0\n",
    "    # harry_magnitude = 0\n",
    "    # harry_salience = 0\n",
    "    type_ = enums.Document.Type.PLAIN_TEXT\n",
    "    language = \"en\"\n",
    "    document = {\"content\": text_content, \"type\": type_, \"language\": language}\n",
    "\n",
    "    # Available values: NONE, UTF8, UTF16, UTF32\n",
    "    encoding_type = enums.EncodingType.UTF8\n",
    "\n",
    "    response = client.analyze_entity_sentiment(document, encoding_type=encoding_type)\n",
    "    # Loop through entitites returned from the API\n",
    "    for entity in response.entities:\n",
    "      # if entity.name == 'harry' or entity.name == 'potter':\n",
    "      #   sentiment = entity.sentiment\n",
    "      #   harry_senti_score += sentiment.score\n",
    "      #   harry_magnitude += sentiment.magnitude\n",
    "\n",
    "      #   return harry_senti_score, harry_magnitude\n",
    "      entity_name.append(entity.name)\n",
    "      entity_type.append(enums.Entity.Type(entity.type).name)\n",
    "      salience.append(entity.salience)\n",
    "      sentiment = entity.sentiment\n",
    "      sentiment_score.append(sentiment.score)\n",
    "      sentiment_magnitude.append(sentiment.magnitude)\n",
    "\n",
    "        # print(u\"Representative name for the entity: {}\".format(entity.name))\n",
    "        # #Get entity type, e.g. PERSON, LOCATION, ADDRESS, NUMBER, et al\n",
    "        # print(u\"Entity type: {}\".format(enums.Entity.Type(entity.type).name))\n",
    "        # #Get the salience score associated with the entity in the [0, 1.0] range\n",
    "        # print(u\"Salience score: {}\".format(entity.salience))\n",
    "        # #Get the aggregate sentiment expressed for this entity in the provided document.\n",
    "        # sentiment = entity.sentiment\n",
    "        # print(u\"Entity sentiment score: {}\".format(sentiment.score))\n",
    "        # print(u\"Entity sentiment magnitude: {}\".format(sentiment.magnitude))\n",
    "        \n",
    "        # with open(path+\"entitiy_info.json\", \"w\") as fp:\n",
    "        #   json.dump(data, fp, indent=4)\n",
    "      #  Loop over the metadata associated with entity. For many known entities,\n",
    "      #   the metadata is a Wikipedia URL (wikipedia_url) and Knowledge Graph MID (mid).\n",
    "      #   Some entity types may have additional metadata, e.g. ADDRESS entities\n",
    "      #   may have metadata for the address street_name, postal_code, et al.\n",
    "      #   for metadata_name, metadata_value in entity.metadata.items():\n",
    "      #     print(u\"{} = {}\".format(metadata_name, metadata_value))\n",
    "\n",
    "        #Loop over the mentions of this entity in the input document.\n",
    "        #The API currently supports proper noun mentions.\n",
    "        # for mention in entity.mentions:\n",
    "        #    print(u\"Mention text: {}\".format(mention.text.content))\n",
    "        #     #Get the mention type, e.g. PROPER for proper noun\n",
    "        #    print(\n",
    "        #        u\"Mention type: {}\".format(enums.EntityMention.Type(mention.type).name)\n",
    "        #    )\n",
    "\n",
    "    # Get the language of the text, which will be the same as\n",
    "    # the language specified in the request or, if not specified,\n",
    "    # the automatically-detected language.\n",
    "    #print(u\"Language of the text: {}\".format(response.language))"
   ],
   "execution_count": null,
   "outputs": []
  },
  {
   "cell_type": "code",
   "metadata": {
    "id": "aMC5UeXMOln_"
   },
   "source": [
    "for texts in dataframe.tokens:\n",
    "    sample_analyze_entity_sentiment(texts)"
   ],
   "execution_count": null,
   "outputs": []
  },
  {
   "cell_type": "code",
   "metadata": {
    "id": "9STmCb60w34s"
   },
   "source": [
    "entity_df = pd.DataFrame({\"name\": [], \"type\": [], \"salience\": [], \"sentiment_score\":[], \"sentiment_magnitude\":[]})"
   ],
   "execution_count": null,
   "outputs": []
  },
  {
   "cell_type": "code",
   "metadata": {
    "id": "xMpP-LFfOwtQ"
   },
   "source": [
    "entity_df['name'] = entity_name\n",
    "entity_df['type'] = entity_type\n",
    "entity_df['salience'] = salience\n",
    "entity_df['sentiment_score'] = sentiment_score\n",
    "entity_df['sentiment_magnitude'] = sentiment_magnitude"
   ],
   "execution_count": null,
   "outputs": []
  },
  {
   "cell_type": "code",
   "metadata": {
    "id": "C6u5zBSPz9U3",
    "outputId": "7243e2ca-1f99-4791-e949-fbdf51e2ae71",
    "colab": {
     "base_uri": "https://localhost:8080/",
     "height": 34
    }
   },
   "source": [
    "len(salience)"
   ],
   "execution_count": null,
   "outputs": [
    {
     "output_type": "execute_result",
     "data": {
      "text/plain": [
       "17196"
      ]
     },
     "metadata": {
      "tags": []
     },
     "execution_count": 39
    }
   ]
  },
  {
   "cell_type": "code",
   "metadata": {
    "id": "qbcIVA_e0Da3",
    "outputId": "b976355d-44f5-476e-e7a4-0317a7905fb5",
    "colab": {
     "base_uri": "https://localhost:8080/",
     "height": 34
    }
   },
   "source": [
    "len(sentiment_magnitude)"
   ],
   "execution_count": null,
   "outputs": [
    {
     "output_type": "execute_result",
     "data": {
      "text/plain": [
       "17196"
      ]
     },
     "metadata": {
      "tags": []
     },
     "execution_count": 40
    }
   ]
  },
  {
   "cell_type": "code",
   "metadata": {
    "id": "fm5hVVqVG_ml",
    "outputId": "120b7845-36b3-4df3-ba8e-e11e1a8e0971",
    "colab": {
     "base_uri": "https://localhost:8080/",
     "height": 85
    }
   },
   "source": [
    "entity_df.loc[entity_df['name'] =='harry'].mean()"
   ],
   "execution_count": null,
   "outputs": [
    {
     "output_type": "execute_result",
     "data": {
      "text/plain": [
       "salience               0.249638\n",
       "sentiment_score       -0.127864\n",
       "sentiment_magnitude    0.175711\n",
       "dtype: float64"
      ]
     },
     "metadata": {
      "tags": []
     },
     "execution_count": 46
    }
   ]
  },
  {
   "cell_type": "code",
   "metadata": {
    "id": "H5xvWUm8SBit"
   },
   "source": [
    "proper_nouns = ['dudley', 'dumbledore', 'mcgonagall', 'voldemort', 'potter', 'harry', 'hagrid',\n",
    "                'ron', 'weasley', 'hermione', 'draco', 'malfoy', 'snape']\n",
    "entity_df.name = entitiy_df.name.replace('potter', 'harry')\n",
    "entity_df.name = entity_df.name.replace('draco', 'malfoy')\n",
    "entity_df.name = entity_df.name.replace('weasley', 'ron')"
   ],
   "execution_count": null,
   "outputs": []
  },
  {
   "cell_type": "code",
   "metadata": {
    "id": "KM4srbkiZSlf",
    "outputId": "45df9ea1-f436-4905-e569-9ea8e3d96c3e",
    "colab": {
     "base_uri": "https://localhost:8080/",
     "height": 419
    }
   },
   "source": [
    "entity_df"
   ],
   "execution_count": null,
   "outputs": [
    {
     "output_type": "execute_result",
     "data": {
      "text/html": [
       "<div>\n",
       "<style scoped>\n",
       "    .dataframe tbody tr th:only-of-type {\n",
       "        vertical-align: middle;\n",
       "    }\n",
       "\n",
       "    .dataframe tbody tr th {\n",
       "        vertical-align: top;\n",
       "    }\n",
       "\n",
       "    .dataframe thead th {\n",
       "        text-align: right;\n",
       "    }\n",
       "</style>\n",
       "<table border=\"1\" class=\"dataframe\">\n",
       "  <thead>\n",
       "    <tr style=\"text-align: right;\">\n",
       "      <th></th>\n",
       "      <th>name</th>\n",
       "      <th>type</th>\n",
       "      <th>salience</th>\n",
       "      <th>sentiment_score</th>\n",
       "      <th>sentiment_magnitude</th>\n",
       "    </tr>\n",
       "  </thead>\n",
       "  <tbody>\n",
       "    <tr>\n",
       "      <th>0</th>\n",
       "      <td>harry</td>\n",
       "      <td>OTHER</td>\n",
       "      <td>0.622594</td>\n",
       "      <td>0.0</td>\n",
       "      <td>0.0</td>\n",
       "    </tr>\n",
       "    <tr>\n",
       "      <th>1</th>\n",
       "      <td>harry</td>\n",
       "      <td>OTHER</td>\n",
       "      <td>0.304206</td>\n",
       "      <td>0.0</td>\n",
       "      <td>0.0</td>\n",
       "    </tr>\n",
       "    <tr>\n",
       "      <th>2</th>\n",
       "      <td>sorcerer</td>\n",
       "      <td>PERSON</td>\n",
       "      <td>0.073200</td>\n",
       "      <td>0.0</td>\n",
       "      <td>0.0</td>\n",
       "    </tr>\n",
       "    <tr>\n",
       "      <th>3</th>\n",
       "      <td>number</td>\n",
       "      <td>OTHER</td>\n",
       "      <td>0.195394</td>\n",
       "      <td>0.1</td>\n",
       "      <td>0.1</td>\n",
       "    </tr>\n",
       "    <tr>\n",
       "      <th>4</th>\n",
       "      <td>mr</td>\n",
       "      <td>PERSON</td>\n",
       "      <td>0.195394</td>\n",
       "      <td>0.0</td>\n",
       "      <td>0.0</td>\n",
       "    </tr>\n",
       "    <tr>\n",
       "      <th>...</th>\n",
       "      <td>...</td>\n",
       "      <td>...</td>\n",
       "      <td>...</td>\n",
       "      <td>...</td>\n",
       "      <td>...</td>\n",
       "    </tr>\n",
       "    <tr>\n",
       "      <th>17191</th>\n",
       "      <td>grin</td>\n",
       "      <td>OTHER</td>\n",
       "      <td>0.145377</td>\n",
       "      <td>0.1</td>\n",
       "      <td>0.1</td>\n",
       "    </tr>\n",
       "    <tr>\n",
       "      <th>17192</th>\n",
       "      <td>use</td>\n",
       "      <td>OTHER</td>\n",
       "      <td>0.038791</td>\n",
       "      <td>0.0</td>\n",
       "      <td>0.0</td>\n",
       "    </tr>\n",
       "    <tr>\n",
       "      <th>17193</th>\n",
       "      <td>magic</td>\n",
       "      <td>OTHER</td>\n",
       "      <td>0.038791</td>\n",
       "      <td>0.2</td>\n",
       "      <td>0.2</td>\n",
       "    </tr>\n",
       "    <tr>\n",
       "      <th>17194</th>\n",
       "      <td>home</td>\n",
       "      <td>LOCATION</td>\n",
       "      <td>0.038791</td>\n",
       "      <td>0.0</td>\n",
       "      <td>0.0</td>\n",
       "    </tr>\n",
       "    <tr>\n",
       "      <th>17195</th>\n",
       "      <td>dudley</td>\n",
       "      <td>LOCATION</td>\n",
       "      <td>0.036617</td>\n",
       "      <td>0.0</td>\n",
       "      <td>0.0</td>\n",
       "    </tr>\n",
       "  </tbody>\n",
       "</table>\n",
       "<p>17196 rows × 5 columns</p>\n",
       "</div>"
      ],
      "text/plain": [
       "           name      type  salience  sentiment_score  sentiment_magnitude\n",
       "0         harry     OTHER  0.622594              0.0                  0.0\n",
       "1         harry     OTHER  0.304206              0.0                  0.0\n",
       "2      sorcerer    PERSON  0.073200              0.0                  0.0\n",
       "3        number     OTHER  0.195394              0.1                  0.1\n",
       "4            mr    PERSON  0.195394              0.0                  0.0\n",
       "...         ...       ...       ...              ...                  ...\n",
       "17191      grin     OTHER  0.145377              0.1                  0.1\n",
       "17192       use     OTHER  0.038791              0.0                  0.0\n",
       "17193     magic     OTHER  0.038791              0.2                  0.2\n",
       "17194      home  LOCATION  0.038791              0.0                  0.0\n",
       "17195    dudley  LOCATION  0.036617              0.0                  0.0\n",
       "\n",
       "[17196 rows x 5 columns]"
      ]
     },
     "metadata": {
      "tags": []
     },
     "execution_count": 139
    }
   ]
  },
  {
   "cell_type": "code",
   "metadata": {
    "id": "m4TLxscZT0eb",
    "outputId": "f0f1d465-e16c-4526-d299-c1160f622c12",
    "colab": {
     "base_uri": "https://localhost:8080/",
     "height": 390
    }
   },
   "source": [
    "character_df = entity_df[entity_df['name'].isin(proper_nouns)]\n",
    "character_df\n",
    "character_df.groupby('name')['salience'].describe()"
   ],
   "execution_count": null,
   "outputs": [
    {
     "output_type": "execute_result",
     "data": {
      "text/html": [
       "<div>\n",
       "<style scoped>\n",
       "    .dataframe tbody tr th:only-of-type {\n",
       "        vertical-align: middle;\n",
       "    }\n",
       "\n",
       "    .dataframe tbody tr th {\n",
       "        vertical-align: top;\n",
       "    }\n",
       "\n",
       "    .dataframe thead th {\n",
       "        text-align: right;\n",
       "    }\n",
       "</style>\n",
       "<table border=\"1\" class=\"dataframe\">\n",
       "  <thead>\n",
       "    <tr style=\"text-align: right;\">\n",
       "      <th></th>\n",
       "      <th>count</th>\n",
       "      <th>mean</th>\n",
       "      <th>std</th>\n",
       "      <th>min</th>\n",
       "      <th>25%</th>\n",
       "      <th>50%</th>\n",
       "      <th>75%</th>\n",
       "      <th>max</th>\n",
       "    </tr>\n",
       "    <tr>\n",
       "      <th>name</th>\n",
       "      <th></th>\n",
       "      <th></th>\n",
       "      <th></th>\n",
       "      <th></th>\n",
       "      <th></th>\n",
       "      <th></th>\n",
       "      <th></th>\n",
       "      <th></th>\n",
       "    </tr>\n",
       "  </thead>\n",
       "  <tbody>\n",
       "    <tr>\n",
       "      <th>dudley</th>\n",
       "      <td>108.0</td>\n",
       "      <td>0.186248</td>\n",
       "      <td>0.250899</td>\n",
       "      <td>0.002200</td>\n",
       "      <td>0.026116</td>\n",
       "      <td>0.066933</td>\n",
       "      <td>0.266505</td>\n",
       "      <td>1.000000</td>\n",
       "    </tr>\n",
       "    <tr>\n",
       "      <th>dumbledore</th>\n",
       "      <td>156.0</td>\n",
       "      <td>0.264644</td>\n",
       "      <td>0.261571</td>\n",
       "      <td>0.002254</td>\n",
       "      <td>0.050217</td>\n",
       "      <td>0.176595</td>\n",
       "      <td>0.393154</td>\n",
       "      <td>1.000000</td>\n",
       "    </tr>\n",
       "    <tr>\n",
       "      <th>hagrid</th>\n",
       "      <td>345.0</td>\n",
       "      <td>0.241296</td>\n",
       "      <td>0.251950</td>\n",
       "      <td>0.001480</td>\n",
       "      <td>0.063450</td>\n",
       "      <td>0.141212</td>\n",
       "      <td>0.330125</td>\n",
       "      <td>1.000000</td>\n",
       "    </tr>\n",
       "    <tr>\n",
       "      <th>harry</th>\n",
       "      <td>1324.0</td>\n",
       "      <td>0.248990</td>\n",
       "      <td>0.252308</td>\n",
       "      <td>0.002270</td>\n",
       "      <td>0.054430</td>\n",
       "      <td>0.155009</td>\n",
       "      <td>0.373521</td>\n",
       "      <td>1.000000</td>\n",
       "    </tr>\n",
       "    <tr>\n",
       "      <th>hermione</th>\n",
       "      <td>221.0</td>\n",
       "      <td>0.256212</td>\n",
       "      <td>0.255616</td>\n",
       "      <td>0.007511</td>\n",
       "      <td>0.069415</td>\n",
       "      <td>0.157447</td>\n",
       "      <td>0.348948</td>\n",
       "      <td>1.000000</td>\n",
       "    </tr>\n",
       "    <tr>\n",
       "      <th>malfoy</th>\n",
       "      <td>128.0</td>\n",
       "      <td>0.208830</td>\n",
       "      <td>0.240245</td>\n",
       "      <td>0.003030</td>\n",
       "      <td>0.050546</td>\n",
       "      <td>0.116109</td>\n",
       "      <td>0.277737</td>\n",
       "      <td>1.000000</td>\n",
       "    </tr>\n",
       "    <tr>\n",
       "      <th>mcgonagall</th>\n",
       "      <td>98.0</td>\n",
       "      <td>0.304647</td>\n",
       "      <td>0.238790</td>\n",
       "      <td>0.004281</td>\n",
       "      <td>0.124662</td>\n",
       "      <td>0.254879</td>\n",
       "      <td>0.415692</td>\n",
       "      <td>1.000000</td>\n",
       "    </tr>\n",
       "    <tr>\n",
       "      <th>ron</th>\n",
       "      <td>438.0</td>\n",
       "      <td>0.292619</td>\n",
       "      <td>0.279663</td>\n",
       "      <td>0.000957</td>\n",
       "      <td>0.061051</td>\n",
       "      <td>0.195160</td>\n",
       "      <td>0.448703</td>\n",
       "      <td>1.000000</td>\n",
       "    </tr>\n",
       "    <tr>\n",
       "      <th>snape</th>\n",
       "      <td>163.0</td>\n",
       "      <td>0.161425</td>\n",
       "      <td>0.200260</td>\n",
       "      <td>0.002442</td>\n",
       "      <td>0.036556</td>\n",
       "      <td>0.078188</td>\n",
       "      <td>0.196145</td>\n",
       "      <td>1.000000</td>\n",
       "    </tr>\n",
       "    <tr>\n",
       "      <th>voldemort</th>\n",
       "      <td>38.0</td>\n",
       "      <td>0.162539</td>\n",
       "      <td>0.159109</td>\n",
       "      <td>0.007559</td>\n",
       "      <td>0.046738</td>\n",
       "      <td>0.130513</td>\n",
       "      <td>0.201753</td>\n",
       "      <td>0.666929</td>\n",
       "    </tr>\n",
       "  </tbody>\n",
       "</table>\n",
       "</div>"
      ],
      "text/plain": [
       "             count      mean       std  ...       50%       75%       max\n",
       "name                                    ...                              \n",
       "dudley       108.0  0.186248  0.250899  ...  0.066933  0.266505  1.000000\n",
       "dumbledore   156.0  0.264644  0.261571  ...  0.176595  0.393154  1.000000\n",
       "hagrid       345.0  0.241296  0.251950  ...  0.141212  0.330125  1.000000\n",
       "harry       1324.0  0.248990  0.252308  ...  0.155009  0.373521  1.000000\n",
       "hermione     221.0  0.256212  0.255616  ...  0.157447  0.348948  1.000000\n",
       "malfoy       128.0  0.208830  0.240245  ...  0.116109  0.277737  1.000000\n",
       "mcgonagall    98.0  0.304647  0.238790  ...  0.254879  0.415692  1.000000\n",
       "ron          438.0  0.292619  0.279663  ...  0.195160  0.448703  1.000000\n",
       "snape        163.0  0.161425  0.200260  ...  0.078188  0.196145  1.000000\n",
       "voldemort     38.0  0.162539  0.159109  ...  0.130513  0.201753  0.666929\n",
       "\n",
       "[10 rows x 8 columns]"
      ]
     },
     "metadata": {
      "tags": []
     },
     "execution_count": 140
    }
   ]
  },
  {
   "cell_type": "code",
   "metadata": {
    "id": "NahMj1tDQFcO"
   },
   "source": [
    "#entity_df.loc[entity_df['type'] == 'PERSON']['name'].unique()"
   ],
   "execution_count": null,
   "outputs": []
  },
  {
   "cell_type": "code",
   "metadata": {
    "id": "s6k2EjTr0Gla"
   },
   "source": [
    "entitiy_df.to_excel(path+\"entity_analysis_result.xlsx\")\n",
    "character_df.to_excel(path+\"charcter_analysis_result.xlsx\")"
   ],
   "execution_count": null,
   "outputs": []
  },
  {
   "cell_type": "code",
   "metadata": {
    "id": "yhnJb_ZycG7j"
   },
   "source": [
    "summary_df = character_df.groupby('name').describe()"
   ],
   "execution_count": null,
   "outputs": []
  },
  {
   "cell_type": "code",
   "metadata": {
    "id": "uBoMxIrAc5oM",
    "outputId": "76226874-efc5-4e53-bed1-ca0cddc09c3f",
    "colab": {
     "base_uri": "https://localhost:8080/",
     "height": 68
    }
   },
   "source": [
    "# summary_df = summary_df.unstack(level=0)\n",
    "summary_df.index"
   ],
   "execution_count": null,
   "outputs": [
    {
     "output_type": "execute_result",
     "data": {
      "text/plain": [
       "Index(['dudley', 'dumbledore', 'hagrid', 'harry', 'hermione', 'malfoy',\n",
       "       'mcgonagall', 'ron', 'snape', 'voldemort'],\n",
       "      dtype='object', name='name')"
      ]
     },
     "metadata": {
      "tags": []
     },
     "execution_count": 144
    }
   ]
  },
  {
   "cell_type": "code",
   "metadata": {
    "id": "K1ihsfeReF1T"
   },
   "source": [
    "summary_df.to_excel(path+\"character_summary_df.xlsx\")"
   ],
   "execution_count": null,
   "outputs": []
  },
  {
   "cell_type": "code",
   "metadata": {
    "id": "yiQFJBJ7eiyJ"
   },
   "source": [
    "pivot = pd.pivot_table(character_df, index = 'name', values = ['salience', 'sentiment_score', 'sentiment_magnitude'])"
   ],
   "execution_count": null,
   "outputs": []
  },
  {
   "cell_type": "code",
   "metadata": {
    "id": "sUpv_QQBfxhE",
    "outputId": "7dd5aa66-776d-4407-b099-deb4aadad267",
    "colab": {
     "base_uri": "https://localhost:8080/",
     "height": 549
    }
   },
   "source": [
    "plt.figure(figsize=(20,10))\n",
    "plt.style.use('fivethirtyeight')\n",
    "plt.title(\"Sentiment Analysis by Character\", fontsize=30)\n",
    "plt.ylabel('Sentiment, Magnitude & Salience', fontsize=20)\n",
    "plt.xlabel('Character', fontsize=20)\n",
    "plt.xticks(fontsize=20, rotation=0)\n",
    "plt.yticks(fontsize=20)\n",
    "\n",
    "plt.plot(pivot.index.str.title(), pivot['sentiment_magnitude'], label='sentiment magnitude')\n",
    "plt.plot(pivot.index.str.title(), pivot['sentiment_score'], label='sentiment score')\n",
    "plt.plot(pivot.index.str.title(), pivot['salience'], label='salience')\n",
    "\n",
    "plt.legend(loc='best', fontsize=20)\n",
    "plt.savefig(path+'Sentiment Analysis by Character.png')"
   ],
   "execution_count": null,
   "outputs": [
    {
     "output_type": "display_data",
     "data": {
      "image/png": "[encoded data removed]",
      "text/plain": [
       "<Figure size 1440x720 with 1 Axes>"
      ]
     },
     "metadata": {
      "tags": []
     }
    }
   ]
  },
  {
   "cell_type": "code",
   "metadata": {
    "id": "jhDvVEURcuDj"
   },
   "source": [
    ""
   ],
   "execution_count": null,
   "outputs": []
  }
 ]
}